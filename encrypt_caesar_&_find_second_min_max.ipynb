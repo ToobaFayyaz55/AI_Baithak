{
  "nbformat": 4,
  "nbformat_minor": 0,
  "metadata": {
    "colab": {
      "provenance": [],
      "authorship_tag": "ABX9TyPsqL8YE3PNAx8egolAJHGV",
      "include_colab_link": true
    },
    "kernelspec": {
      "name": "python3",
      "display_name": "Python 3"
    },
    "language_info": {
      "name": "python"
    }
  },
  "cells": [
    {
      "cell_type": "markdown",
      "metadata": {
        "id": "view-in-github",
        "colab_type": "text"
      },
      "source": [
        "<a href=\"https://colab.research.google.com/github/ToobaFayyaz55/AI_Baithak/blob/main/encrypt_caesar_%26_find_second_min_max.ipynb\" target=\"_parent\"><img src=\"https://colab.research.google.com/assets/colab-badge.svg\" alt=\"Open In Colab\"/></a>"
      ]
    },
    {
      "cell_type": "markdown",
      "source": [
        "Encrypts a given string using the Caesar cipher with a specified shift value.\n",
        "\n",
        "    Parameters:\n",
        "    text (str): The string to encrypt.\n",
        "    shift (int): The shift value for the Caesar cipher.\n",
        "\n",
        "    Returns:\n",
        "    str: The encrypted string."
      ],
      "metadata": {
        "id": "DFHSfBYMJWuC"
      }
    },
    {
      "cell_type": "code",
      "execution_count": null,
      "metadata": {
        "colab": {
          "base_uri": "https://localhost:8080/"
        },
        "id": "muLFxGx8I4m5",
        "outputId": "c283c5d3-9124-41e6-c64b-7757d88911b9"
      },
      "outputs": [
        {
          "output_type": "stream",
          "name": "stdout",
          "text": [
            "Test cases for encrypt_caesar:\n",
            "Case 1: khoor\n",
            "Case 2: btwqi\n"
          ]
        }
      ],
      "source": [
        "def encrypt_caesar(text, shift):\n",
        "    encrypted_text = \"\"\n",
        "    for char in text:\n",
        "        if char.isalpha():\n",
        "            if char.islower():\n",
        "                encrypted_text += chr((ord(char) - ord('a') + shift) % 26 + ord('a'))\n",
        "            else:\n",
        "                encrypted_text += chr((ord(char) - ord('A') + shift) % 26 + ord('A'))\n",
        "        else:\n",
        "            encrypted_text += char\n",
        "    return encrypted_text\n",
        "print(\"Test cases for encrypt_caesar:\")\n",
        "print(\"Case 1:\", encrypt_caesar(\"hello\", 3))\n",
        "print(\"Case 2:\", encrypt_caesar(\"world\", 5))"
      ]
    },
    {
      "cell_type": "markdown",
      "source": [
        " Finds the second minimum and maximum elements from an integer array.\n",
        "\n",
        "    Parameters:\n",
        "    nums (list of int): The input integer array.\n",
        "\n",
        "    Returns:\n",
        "    tuple: A tuple containing the second minimum and second maximum elements."
      ],
      "metadata": {
        "id": "EYYMIp1bJSo_"
      }
    },
    {
      "cell_type": "code",
      "source": [
        "def find_second_min_max(nums):\n",
        "   sorted_nums = sorted(set(nums))\n",
        "   if len(sorted_nums) < 2:\n",
        "        return None, None\n",
        "   return sorted_nums[1], sorted_nums[-2]\n",
        "print(\"Case 1:\", find_second_min_max([3, 1, 7, 4, 9, 2]))\n",
        "print(\"Case 2:\", find_second_min_max([5, 5, 3, 8, 2, 9, 1]))"
      ],
      "metadata": {
        "colab": {
          "base_uri": "https://localhost:8080/"
        },
        "id": "Of-DvQ-oKAnX",
        "outputId": "4d66feef-5b38-4bd6-a1b0-cbff8eeaafb1"
      },
      "execution_count": null,
      "outputs": [
        {
          "output_type": "stream",
          "name": "stdout",
          "text": [
            "Case 1: (2, 7)\n",
            "Case 2: (2, 8)\n"
          ]
        }
      ]
    }
  ]
}