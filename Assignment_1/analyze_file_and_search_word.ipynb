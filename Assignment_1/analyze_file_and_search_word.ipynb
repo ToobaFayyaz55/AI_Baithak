{
  "nbformat": 4,
  "nbformat_minor": 0,
  "metadata": {
    "colab": {
      "provenance": [],
      "authorship_tag": "ABX9TyMnFTd0Y2yb3g7RNvsVAYNp",
      "include_colab_link": true
    },
    "kernelspec": {
      "name": "python3",
      "display_name": "Python 3"
    },
    "language_info": {
      "name": "python"
    }
  },
  "cells": [
    {
      "cell_type": "markdown",
      "metadata": {
        "id": "view-in-github",
        "colab_type": "text"
      },
      "source": [
        "<a href=\"https://colab.research.google.com/github/ToobaFayyaz55/AI_Baithak/blob/main/analyze_file_and_search_word.ipynb\" target=\"_parent\"><img src=\"https://colab.research.google.com/assets/colab-badge.svg\" alt=\"Open In Colab\"/></a>"
      ]
    },
    {
      "cell_type": "code",
      "execution_count": null,
      "metadata": {
        "colab": {
          "base_uri": "https://localhost:8080/"
        },
        "id": "N9tyUF2a-9kf",
        "outputId": "ebb7e1cb-91a4-487d-ee69-55fe8012648b"
      },
      "outputs": [
        {
          "output_type": "stream",
          "name": "stdout",
          "text": [
            "File 'example.txt' has been created.\n"
          ]
        }
      ],
      "source": [
        "with open('sample.txt', 'w') as file:\n",
        "    file.write(\"In Allah's embrace, I find everlasting love - forever, SubhanAllah.\\n\")\n",
        "    file.write(\" Allah , the Almighty, grants me strength in every fight\\n\")\n",
        "    file.write(\" Allah , the Most Gracious, fills my heart with delight\\n\")\n",
        "print(\"File 'example.txt' has been created.\")"
      ]
    },
    {
      "cell_type": "markdown",
      "source": [
        "   Analyzes a file and returns counts of characters, words, and lines.\n",
        "\n",
        "    Parameters:\n",
        "    filename (str): The name of the file to analyze.\n",
        "\n",
        "    Returns:\n",
        "    dict: A dictionary containing counts of characters, words, and lines.\n",
        "          {'characters': count_chars, 'words': count_words, 'lines': count_lines}\n",
        "\n",
        "    Raises:\n",
        "    FileNotFoundError: If the specified file is not found."
      ],
      "metadata": {
        "id": "6_5H2MReB-ay"
      }
    },
    {
      "cell_type": "code",
      "source": [
        "def analyze_file(filename):\n",
        "  try:\n",
        "        with open(filename, 'r') as file:\n",
        "            text = file.read()\n",
        "            count_chars = len(text)\n",
        "            count_words = len(text.split())\n",
        "            count_lines = text.count('\\n') + 1\n",
        "            return {'characters': count_chars, 'words': count_words, 'lines': count_lines}\n",
        "  except FileNotFoundError:\n",
        "        print(f\"File '{filename}' not found.\")\n",
        "        return {'characters': 0, 'words': 0, 'lines': 0}\n",
        "print(analyze_file(\"sample.txt\"))"
      ],
      "metadata": {
        "colab": {
          "base_uri": "https://localhost:8080/"
        },
        "id": "PaREi7B1Aps4",
        "outputId": "ba607b9d-87e4-4195-c66e-9a1ae9de8d02"
      },
      "execution_count": null,
      "outputs": [
        {
          "output_type": "stream",
          "name": "stdout",
          "text": [
            "{'characters': 177, 'words': 28, 'lines': 4}\n"
          ]
        }
      ]
    },
    {
      "cell_type": "markdown",
      "source": [
        "  Searches for a word in a file and returns the count of occurrences.\n",
        "\n",
        "    Parameters:\n",
        "    filename (str): The name of the file to search.\n",
        "    word (str): The word to search for.\n",
        "\n",
        "    Returns:\n",
        "    int: The count of occurrences of the word in the file.\n",
        "\n",
        "    Raises:\n",
        "    FileNotFoundError: If the specified file is not found."
      ],
      "metadata": {
        "id": "Vp91ZY2uCNXS"
      }
    },
    {
      "cell_type": "code",
      "source": [
        "def search_word(filename, word):\n",
        "   try:\n",
        "        with open(filename, 'r') as file:\n",
        "            text = file.read()\n",
        "            return text.split().count(word)\n",
        "   except FileNotFoundError:\n",
        "        print(f\"File '{filename}' not found.\")\n",
        "        return 0\n",
        "print(search_word(\"sample.txt\", \"the\"))"
      ],
      "metadata": {
        "colab": {
          "base_uri": "https://localhost:8080/"
        },
        "id": "iiFn1oJzCVN-",
        "outputId": "7c490026-22de-454c-e98c-250b479ea291"
      },
      "execution_count": null,
      "outputs": [
        {
          "output_type": "stream",
          "name": "stdout",
          "text": [
            "2\n"
          ]
        }
      ]
    }
  ]
}