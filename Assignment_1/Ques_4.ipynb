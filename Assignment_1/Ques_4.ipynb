{
  "nbformat": 4,
  "nbformat_minor": 0,
  "metadata": {
    "colab": {
      "provenance": [],
      "authorship_tag": "ABX9TyM8VUTOrPYzqTg/wDBsZKTM",
      "include_colab_link": true
    },
    "kernelspec": {
      "name": "python3",
      "display_name": "Python 3"
    },
    "language_info": {
      "name": "python"
    }
  },
  "cells": [
    {
      "cell_type": "markdown",
      "metadata": {
        "id": "view-in-github",
        "colab_type": "text"
      },
      "source": [
        "<a href=\"https://colab.research.google.com/github/ToobaFayyaz55/AI_Baithak/blob/main/Ques_4.ipynb\" target=\"_parent\"><img src=\"https://colab.research.google.com/assets/colab-badge.svg\" alt=\"Open In Colab\"/></a>"
      ]
    },
    {
      "cell_type": "markdown",
      "source": [
        "Define a function in Python and explain its purpose.\n",
        "\n",
        "    A function in Python is a block of reusable code that performs a specific task.\n",
        "    It runs a set of instructions, making the code modular and reusable."
      ],
      "metadata": {
        "id": "HBmqKQFHE4yy"
      }
    },
    {
      "cell_type": "code",
      "source": [
        "def greet(name):\n",
        "    print(\"Hello,\", name)\n",
        "name = 'Tooba'\n",
        "greet(name)"
      ],
      "metadata": {
        "colab": {
          "base_uri": "https://localhost:8080/"
        },
        "id": "RMrhV82LFNyw",
        "outputId": "54422f2e-84d5-4644-935a-76df63f1bfeb"
      },
      "execution_count": null,
      "outputs": [
        {
          "output_type": "stream",
          "name": "stdout",
          "text": [
            "Hello, Tooba\n"
          ]
        }
      ]
    },
    {
      "cell_type": "markdown",
      "source": [
        "Discuss the importance of using functions in Python programming.\n",
        "\n",
        "    Functions improve code organization, readability, and maintainability."
      ],
      "metadata": {
        "id": "w3MjO9MkE3gV"
      }
    },
    {
      "cell_type": "code",
      "source": [
        "def calculate_sum(numbers):\n",
        "    print(sum(numbers))\n",
        "num = [6, 4, 2]\n",
        "calculate_sum(num)"
      ],
      "metadata": {
        "colab": {
          "base_uri": "https://localhost:8080/"
        },
        "id": "CHpM1kzXF80O",
        "outputId": "157e739e-49d6-40a3-c190-284d0df30299"
      },
      "execution_count": null,
      "outputs": [
        {
          "output_type": "stream",
          "name": "stdout",
          "text": [
            "12\n"
          ]
        }
      ]
    },
    {
      "cell_type": "markdown",
      "source": [
        "Differentiate between defining a function and calling a function in Python.\n",
        "\n",
        "     Defining a function involves creating its structure, while calling a function executes its code."
      ],
      "metadata": {
        "id": "cmkdDg9BGYC_"
      }
    },
    {
      "cell_type": "code",
      "source": [
        "def greet(name): # definition\n",
        "    print(\"Hello,\", name)\n",
        "\n",
        "greet(\"Alice\") # calling"
      ],
      "metadata": {
        "colab": {
          "base_uri": "https://localhost:8080/"
        },
        "id": "j56xT8GyG59Z",
        "outputId": "bea9438a-6e7d-43fe-adc5-8bbe25d8d4d4"
      },
      "execution_count": null,
      "outputs": [
        {
          "output_type": "stream",
          "name": "stdout",
          "text": [
            "Hello, Alice\n"
          ]
        }
      ]
    },
    {
      "cell_type": "markdown",
      "source": [
        "Explain the difference between parameters and arguments in Python.\n",
        "    \n",
        "    Parameters: Variables in a function definition.\n",
        "    Arguments: Values passed to a function when called.\n",
        "\n"
      ],
      "metadata": {
        "id": "nlE81iThHIKd"
      }
    },
    {
      "cell_type": "markdown",
      "source": [
        "What role does the return statement play in a Python function?\n",
        "\n",
        "    It exits the function and returns a value to the caller."
      ],
      "metadata": {
        "id": "-XHskbPiHyFi"
      }
    },
    {
      "cell_type": "code",
      "source": [
        "def square(x):\n",
        "    return x * x\n",
        "\n",
        "result = square(4)\n",
        "print(result)"
      ],
      "metadata": {
        "colab": {
          "base_uri": "https://localhost:8080/"
        },
        "id": "tCVbnytRH7Wm",
        "outputId": "0794845f-3ca5-46bb-dd7f-eada565c73c9"
      },
      "execution_count": null,
      "outputs": [
        {
          "output_type": "stream",
          "name": "stdout",
          "text": [
            "16\n"
          ]
        }
      ]
    },
    {
      "cell_type": "markdown",
      "source": [
        "Explain the concept of function reusability and its significance.\n",
        "\n",
        "      Functions can be used multiple times, promoting code reuse."
      ],
      "metadata": {
        "id": "9fWSp4oFIJcE"
      }
    },
    {
      "cell_type": "code",
      "source": [
        "def greet(name):\n",
        "    print(\"Hello,\", name)\n",
        "\n",
        "greet(\"Alice\")\n",
        "greet(\"Bob\")"
      ],
      "metadata": {
        "colab": {
          "base_uri": "https://localhost:8080/"
        },
        "id": "L1l3BT8HIVjX",
        "outputId": "251044f7-92b0-446f-99cb-52e2a0697203"
      },
      "execution_count": null,
      "outputs": [
        {
          "output_type": "stream",
          "name": "stdout",
          "text": [
            "Hello, Alice\n",
            "Hello, Bob\n"
          ]
        }
      ]
    },
    {
      "cell_type": "markdown",
      "source": [
        "Describe how you can pass multiple parameters to a Python function?\n",
        "\n",
        "      Separate parameters with commas in the function definition."
      ],
      "metadata": {
        "id": "-3sB5qDiIceP"
      }
    },
    {
      "cell_type": "code",
      "source": [
        "def add(a, b):\n",
        "    return a + b\n",
        "\n",
        "result = add(3, 5)\n",
        "print(result)"
      ],
      "metadata": {
        "id": "7LWWxe3IIm4M",
        "outputId": "fd815342-98ea-4ba4-ca09-9c68dfd941ed",
        "colab": {
          "base_uri": "https://localhost:8080/"
        }
      },
      "execution_count": null,
      "outputs": [
        {
          "output_type": "stream",
          "name": "stdout",
          "text": [
            "8\n"
          ]
        }
      ]
    }
  ]
}