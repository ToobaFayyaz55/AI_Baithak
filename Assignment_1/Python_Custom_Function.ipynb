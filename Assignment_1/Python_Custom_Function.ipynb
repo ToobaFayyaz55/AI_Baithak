{
  "nbformat": 4,
  "nbformat_minor": 0,
  "metadata": {
    "colab": {
      "provenance": [],
      "authorship_tag": "ABX9TyNc72q972zoOarOvDO/4AwE",
      "include_colab_link": true
    },
    "kernelspec": {
      "name": "python3",
      "display_name": "Python 3"
    },
    "language_info": {
      "name": "python"
    }
  },
  "cells": [
    {
      "cell_type": "markdown",
      "metadata": {
        "id": "view-in-github",
        "colab_type": "text"
      },
      "source": [
        "<a href=\"https://colab.research.google.com/github/ToobaFayyaz55/AI_Baithak/blob/main/Python_Custom_Function.ipynb\" target=\"_parent\"><img src=\"https://colab.research.google.com/assets/colab-badge.svg\" alt=\"Open In Colab\"/></a>"
      ]
    },
    {
      "cell_type": "markdown",
      "source": [
        "PART 1 : Check if a number is even or odd.\n",
        "\n",
        "    Parameters:\n",
        "    num (int): The number to check.\n",
        "\n",
        "    Returns:\n",
        "    str: 'is an even no' if the number is even, 'is an odd no' if it's odd."
      ],
      "metadata": {
        "id": "0D2_fnYeBkAj"
      }
    },
    {
      "cell_type": "code",
      "execution_count": null,
      "metadata": {
        "colab": {
          "base_uri": "https://localhost:8080/"
        },
        "id": "YJG1lta3BA60",
        "outputId": "75530953-b53a-4632-f22e-c2b68aff5ec9"
      },
      "outputs": [
        {
          "output_type": "stream",
          "name": "stdout",
          "text": [
            "Enter a no.5\n",
            "5 is an odd no\n"
          ]
        }
      ],
      "source": [
        "def even_odd(num):\n",
        "    if no % 2 == 0:\n",
        "        return \"is an even no\"\n",
        "    else:\n",
        "        return \"is an odd no\"\n",
        "no=int(input(\"Enter a no.\"))\n",
        "print(no, even_odd(no))"
      ]
    },
    {
      "cell_type": "markdown",
      "source": [
        "PART 2:\n",
        "    Find the minimum and maximum numbers in a sequence (list).\n",
        "\n",
        "    Parameters:\n",
        "    nums (list): A list of numbers.\n",
        "\n",
        "    Returns:\n",
        "    tuple: A tuple containing the minimum and maximum numbers."
      ],
      "metadata": {
        "id": "-TuNnAlQBcqk"
      }
    },
    {
      "cell_type": "code",
      "source": [
        "def min_max(nums):\n",
        "    return min(nums), max(nums)\n",
        "\n",
        "no = [2, 5, 44, 85, 11, 54, 14]\n",
        "min_no , max_no = min_max(no)\n",
        "print(\"Minimum number:\", min_no)\n",
        "print(\"Maximum number:\", max_no)"
      ],
      "metadata": {
        "colab": {
          "base_uri": "https://localhost:8080/"
        },
        "id": "_1e1JJvEBTj6",
        "outputId": "48db9665-2773-4586-bbb4-bcb4eb0fb89e"
      },
      "execution_count": null,
      "outputs": [
        {
          "output_type": "stream",
          "name": "stdout",
          "text": [
            "Minimum number: 2\n",
            "Maximum number: 85\n"
          ]
        }
      ]
    },
    {
      "cell_type": "markdown",
      "source": [
        " PART 3  : Convert temperature from Celsius to Fahrenheit.\n",
        "\n",
        "    Parameters:\n",
        "    celsius (float): Temperature in Celsius.\n",
        "\n",
        "    Prints:\n",
        "    float: Temperature converted to Fahrenheit."
      ],
      "metadata": {
        "id": "FeoWo9b0BM5G"
      }
    },
    {
      "cell_type": "code",
      "source": [
        "def celsius_to_fahrenheit(celsius):\n",
        "    fahrenheit = (celsius * 9/5) + 32\n",
        "    print(celsius,\"degrees Celsius is equal to\",fahrenheit,\"degrees Fahrenheit.\")\n",
        "\n",
        "celsius = float(input(\"Enter temperature in Celsius: \"))\n",
        "celsius_to_fahrenheit(celsius)"
      ],
      "metadata": {
        "colab": {
          "base_uri": "https://localhost:8080/"
        },
        "id": "BrQXM109CsX5",
        "outputId": "bb21914d-db75-49a3-93be-5e3b3b605a09"
      },
      "execution_count": null,
      "outputs": [
        {
          "output_type": "stream",
          "name": "stdout",
          "text": [
            "Enter temperature in Celsius: 34.6\n",
            "34.6 degrees Celsius is equal to 94.28 degrees Fahrenheit.\n"
          ]
        }
      ]
    },
    {
      "cell_type": "markdown",
      "source": [
        "PART 3(b) : Convert temperature from Fahrenheit to Celsius.\n",
        "\n",
        "    Parameters:\n",
        "    fahrenheit (float): Temperature in Fahrenheit.\n",
        "\n",
        "    Prints:\n",
        "    float: Temperature converted to Celsius."
      ],
      "metadata": {
        "id": "RmqQZLNiCVmy"
      }
    },
    {
      "cell_type": "code",
      "source": [
        "def fahrenheit_to_celsius(fahrenheit):\n",
        "    celsius = (fahrenheit - 32) * 5/9\n",
        "    print(fahrenheit,\"degrees fahrenheit is equal to\",celsius,\"degrees celsius.\")\n",
        "fahrenheit = float(input(\"Enter temperature in fahrenheit: \"))\n",
        "fahrenheit_to_celsius(fahrenheit)"
      ],
      "metadata": {
        "colab": {
          "base_uri": "https://localhost:8080/"
        },
        "id": "pUlD1ad3EIa_",
        "outputId": "c4100da6-6546-43c1-878f-cc3c68fe7a68"
      },
      "execution_count": null,
      "outputs": [
        {
          "output_type": "stream",
          "name": "stdout",
          "text": [
            "Enter temperature in fahrenheit: 94.28\n",
            "94.28 degrees fahrenheit is equal to 34.599999999999994 degrees celsius.\n"
          ]
        }
      ]
    },
    {
      "cell_type": "markdown",
      "source": [
        "PART 4 : Generate the table of a given number up to a specified limit.\n",
        "\n",
        "    Parameters:\n",
        "    num (int): The number for which the table is generated.\n",
        "    limit (int): The upper limit of the table (default is 10)."
      ],
      "metadata": {
        "id": "bCweK7b_Jvj2"
      }
    },
    {
      "cell_type": "code",
      "source": [
        "def generate_table(num, limit):\n",
        "  for i in range(1, limit+1):\n",
        "    print(num,\"*\",i,'=',num*i)\n",
        "no = int(input(\"enter no : \"))\n",
        "lim = int(input(\"enter limit : \"))\n",
        "generate_table(no, lim)"
      ],
      "metadata": {
        "colab": {
          "base_uri": "https://localhost:8080/"
        },
        "id": "onx9-jCtJwkK",
        "outputId": "9bbad699-ca5a-4f73-e37d-660079e9f0fd"
      },
      "execution_count": null,
      "outputs": [
        {
          "output_type": "stream",
          "name": "stdout",
          "text": [
            "enter no : 5\n",
            "enter limit : 5\n",
            "5 * 1 = 5\n",
            "5 * 2 = 10\n",
            "5 * 3 = 15\n",
            "5 * 4 = 20\n",
            "5 * 5 = 25\n"
          ]
        }
      ]
    },
    {
      "cell_type": "markdown",
      "source": [
        " PART 5 : Calculate the area of a circle.\n",
        "\n",
        "    Parameters:\n",
        "    radius (float): The radius of the circle.\n",
        "\n",
        "    Returns:\n",
        "    float: The area of the circle."
      ],
      "metadata": {
        "id": "p8Fz_0z6L0Pa"
      }
    },
    {
      "cell_type": "code",
      "source": [
        "def circle_area(radius):\n",
        "  return 3.14159 * radius**2\n",
        "rad = float(input(\"enter radius of circle : \"))\n",
        "print(\"Area of \",rad,'is',circle_area(rad))"
      ],
      "metadata": {
        "colab": {
          "base_uri": "https://localhost:8080/"
        },
        "id": "3-T4e4tsL03s",
        "outputId": "7a86fa1d-c1f7-43c0-b3a9-0ee0daa511d6"
      },
      "execution_count": null,
      "outputs": [
        {
          "output_type": "stream",
          "name": "stdout",
          "text": [
            "enter radius of circle : 3.4\n",
            "Area of  3.4 is 36.31678039999999\n"
          ]
        }
      ]
    },
    {
      "cell_type": "markdown",
      "source": [
        "PART 6 : Calculate the factorial of a number.\n",
        "\n",
        "    Parameters:\n",
        "    n (int): The number for which the factorial is calculated.\n",
        "\n",
        "    Returns:\n",
        "    int: The factorial of the given number."
      ],
      "metadata": {
        "id": "tTuRGUnEG1DA"
      }
    },
    {
      "cell_type": "code",
      "source": [
        "def fact(n):\n",
        "    fac=1\n",
        "    if n==0 or n==1:\n",
        "        return 1\n",
        "    else:\n",
        "        fac=n*fact(n-1)\n",
        "        return fac\n",
        "no = int(input(\"enter a no : \"))\n",
        "print(\"the factorial of\",no,\"is\",fact(no))"
      ],
      "metadata": {
        "colab": {
          "base_uri": "https://localhost:8080/"
        },
        "id": "iLhYszFUHT88",
        "outputId": "794ff0f1-a000-4056-9387-b39c4aeebbab"
      },
      "execution_count": null,
      "outputs": [
        {
          "output_type": "stream",
          "name": "stdout",
          "text": [
            "enter a no:5\n",
            "the factorial of 5 is 120\n"
          ]
        }
      ]
    },
    {
      "cell_type": "markdown",
      "source": [
        "  PART 7 : Calculate the sum of a sequence (list) of numbers.\n",
        "\n",
        "    Parameters:\n",
        "    numbers (list): A list of numbers.\n",
        "\n",
        "    Returns:\n",
        "    int: The sum of the numbers in the sequence"
      ],
      "metadata": {
        "id": "etbKS6gVIMJA"
      }
    },
    {
      "cell_type": "code",
      "source": [
        "def seq_sum(numbers):\n",
        "  return sum(numbers)\n",
        "num = [1, 3, 5, 7, 9]\n",
        "print(\"the sum of\",num,'is',sum(num))"
      ],
      "metadata": {
        "colab": {
          "base_uri": "https://localhost:8080/"
        },
        "id": "ssKIa0iqIaut",
        "outputId": "724f976f-76aa-49ab-c9e4-5fcfee9b3554"
      },
      "execution_count": null,
      "outputs": [
        {
          "output_type": "stream",
          "name": "stdout",
          "text": [
            "the sum of [1, 3, 5, 7, 9] is 25\n"
          ]
        }
      ]
    },
    {
      "cell_type": "markdown",
      "source": [
        "PART 8 : Generate an ascending sequence of numbers from a given list.\n",
        "\n",
        "    Parameters:\n",
        "    numbers (list): A list of numbers.\n",
        "\n",
        "    Returns:\n",
        "    list: A list containing the numbers sorted in ascending order."
      ],
      "metadata": {
        "id": "mItHMMOQJApM"
      }
    },
    {
      "cell_type": "code",
      "source": [
        "def ascending_seq(numbers):\n",
        "   return sorted(numbers)\n",
        "num = [5, 2, 8, 1, 9, 3]\n",
        "ascending_numbers = ascending_seq(num)\n",
        "print(\"Original numbers:\", num)\n",
        "print(\"Ascending sequence:\", ascending_numbers)"
      ],
      "metadata": {
        "colab": {
          "base_uri": "https://localhost:8080/"
        },
        "id": "7jc20qUwMtRf",
        "outputId": "01d3ef77-a674-439d-cd18-d5c44d99b2fb"
      },
      "execution_count": null,
      "outputs": [
        {
          "output_type": "stream",
          "name": "stdout",
          "text": [
            "Original numbers: [5, 2, 8, 1, 9, 3]\n",
            "Ascending sequence: [1, 2, 3, 5, 8, 9]\n"
          ]
        }
      ]
    },
    {
      "cell_type": "markdown",
      "source": [
        "PART 8(b) : Generate a descending sequence of numbers from a given list.\n",
        "\n",
        "    Parameters:\n",
        "    numbers (list): A list of numbers.\n",
        "\n",
        "    Returns:\n",
        "    list: A list containing the numbers sorted in descending order."
      ],
      "metadata": {
        "id": "th1ry0SXOffX"
      }
    },
    {
      "cell_type": "code",
      "source": [
        "def descending_seq(numbers):\n",
        "  return sorted(numbers, reverse=True)\n",
        "num = [5, 2, 8, 1, 9, 3]\n",
        "descending_numbers = descending_seq(num)\n",
        "print(\"Original numbers:\", num)\n",
        "print(\"Descending sequence:\", descending_numbers)"
      ],
      "metadata": {
        "colab": {
          "base_uri": "https://localhost:8080/"
        },
        "id": "qrZRlhDVOgsf",
        "outputId": "cd633a3a-3bba-4d40-bc64-1136ebc64b01"
      },
      "execution_count": null,
      "outputs": [
        {
          "output_type": "stream",
          "name": "stdout",
          "text": [
            "Original numbers: [5, 2, 8, 1, 9, 3]\n",
            "Descending sequence: [9, 8, 5, 3, 2, 1]\n"
          ]
        }
      ]
    },
    {
      "cell_type": "markdown",
      "source": [
        " PART 9 : Calculate the sum of the first n positive integers.\n",
        "\n",
        "    Parameters:\n",
        "    n (int): The number of positive integers.\n",
        "\n",
        "    Returns:\n",
        "    int: The sum of the first n positive integers."
      ],
      "metadata": {
        "id": "9aeWPftlPX_R"
      }
    },
    {
      "cell_type": "code",
      "source": [
        "def sum_of_positive_integers(n):\n",
        "   return (n * (n + 1)) // 2\n",
        "no = int(input(\"enter a no : \"))\n",
        "print(\"the sum is\", sum_of_positive_integers(no))"
      ],
      "metadata": {
        "colab": {
          "base_uri": "https://localhost:8080/"
        },
        "id": "mV051mH_PYcO",
        "outputId": "fdc43d58-d1f2-41cf-a4ee-bdedefd64bca"
      },
      "execution_count": null,
      "outputs": [
        {
          "output_type": "stream",
          "name": "stdout",
          "text": [
            "enter a no : 5\n",
            "the sum is 15\n"
          ]
        }
      ]
    },
    {
      "cell_type": "markdown",
      "source": [
        "PART 10 : Perform linear search to find the index of a target element in a list.\n",
        "\n",
        "    Parameters:\n",
        "    arr (list): The list in which to search.\n",
        "    target: The element to search for.\n",
        "\n",
        "    Returns:\n",
        "    int: The index of the target element if found, otherwise -1."
      ],
      "metadata": {
        "id": "UhPq7cRQQEcJ"
      }
    },
    {
      "cell_type": "code",
      "source": [
        "def linear_search(arr, target):\n",
        "  for i, num in enumerate(arr):\n",
        "        if num == target:\n",
        "            return i\n",
        "  return -1\n",
        "my_list = [4, 7, 2, 9, 1, 6]\n",
        "target_element = 9\n",
        "result = linear_search(my_list, target_element)\n",
        "if result != -1:\n",
        "    print(f\"The target element {target_element} is found at index {result}.\")\n",
        "else:\n",
        "    print(f\"The target element {target_element} is not found in the list.\")"
      ],
      "metadata": {
        "colab": {
          "base_uri": "https://localhost:8080/"
        },
        "id": "pODY5RuLQE3Q",
        "outputId": "33210e4a-be54-4903-9155-ed293113854a"
      },
      "execution_count": null,
      "outputs": [
        {
          "output_type": "stream",
          "name": "stdout",
          "text": [
            "The target element 9 is found at index 3.\n"
          ]
        }
      ]
    }
  ]
}